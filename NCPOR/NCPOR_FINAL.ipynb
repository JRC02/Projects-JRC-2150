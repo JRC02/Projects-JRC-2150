{
  "nbformat": 4,
  "nbformat_minor": 0,
  "metadata": {
    "colab": {
      "name": "NCPOR_FINAL.ipynb",
      "provenance": [],
      "collapsed_sections": [],
      "toc_visible": true
    },
    "kernelspec": {
      "name": "python3",
      "display_name": "Python 3"
    },
    "language_info": {
      "name": "python"
    }
  },
  "cells": [
    {
      "cell_type": "markdown",
      "source": [
        "Installation of libraries"
      ],
      "metadata": {
        "id": "xCBfir1LZ07W"
      }
    },
    {
      "cell_type": "code",
      "execution_count": null,
      "metadata": {
        "id": "uBST0ZhwX_YM"
      },
      "outputs": [],
      "source": [
        "!pip install rasterio\n",
        "!pip install numpy\n",
        "!pip install pandas\n",
        "!pip install pyproj"
      ]
    },
    {
      "cell_type": "code",
      "source": [
        "import rasterio \n",
        "import pandas as pd\n",
        "import numpy as np\n",
        "import os\n",
        "from math import radians, sin, cos, acos\n",
        "import pyproj"
      ],
      "metadata": {
        "id": "AuhdJHeSel-Z"
      },
      "execution_count": 26,
      "outputs": []
    },
    {
      "cell_type": "markdown",
      "source": [
        "Functions to read and process map"
      ],
      "metadata": {
        "id": "6lsHmUKjZ-_X"
      }
    },
    {
      "cell_type": "code",
      "source": [
        "#function to read coordinates in CRS and pixel intensity values and create a data frame of the same\n",
        "def read_map(path_map):\n",
        "  with rasterio.open(path_map) as dataset: \n",
        "      val = dataset.read(1) \n",
        "      no_data=dataset.nodata\n",
        "      data = [(dataset.xy(x,y)[0],dataset.xy(x,y)[1],val[x,y]) for x,y in np.ndindex(val.shape) if val[x,y] != no_data]\n",
        "      est = [i[0] for i in data]\n",
        "      nor = [i[1] for i in data]\n",
        "      pix = [i[2] for i in data]\n",
        "      conc = pd.DataFrame({\"easting\":est,'northing':nor,\"pixel\":pix})\n",
        "  return conc\n",
        "    "
      ],
      "metadata": {
        "id": "OozFAEhuYDpA"
      },
      "execution_count": 27,
      "outputs": []
    },
    {
      "cell_type": "code",
      "source": [
        "#function to convert CRS values into latitude and longitude\n",
        "def to_lat_long(e,n):\n",
        "  lat=[]\n",
        "  long=[]\n",
        "  x1=e\n",
        "  y1=n\n",
        "  x1 = np.array(x1, int)\n",
        "  x1=x1.tolist()\n",
        "  length = len(x1)   \n",
        "  #print(length)\n",
        "  wgs84 = pyproj.Proj(projparams = 'epsg:4326')\n",
        "  InputGrid = pyproj.Proj(projparams = 'epsg:3976')\n",
        "  for i in range(length):\n",
        "    x2,y2=pyproj.transform(InputGrid,wgs84 , x1[i], y1[i])\n",
        "    lat.append(x2)\n",
        "    long.append(y2)\n",
        "  return lat,long"
      ],
      "metadata": {
        "id": "081VmAk-bvxx"
      },
      "execution_count": 28,
      "outputs": []
    },
    {
      "cell_type": "code",
      "source": [
        "#passes dataframe to the function \"to_lat_long\" to get latitude and longitude values\n",
        "def convert(df):\n",
        "  conc = df\n",
        "  laty=[]\n",
        "  longy=[]\n",
        "  laty,longy=to_lat_long(conc['easting'],conc['northing'])\n",
        "  conc['Latitude'] =laty\n",
        "  conc['Longitude']=longy\n",
        "  return conc"
      ],
      "metadata": {
        "id": "-Gx8grLXYgUo"
      },
      "execution_count": 29,
      "outputs": []
    },
    {
      "cell_type": "code",
      "source": [
        "#function to obtain the coordinates of sea ice concentration greater than 20% and that of the coastline alog every longitude\n",
        "def slice_n_dice(df):\n",
        "  conc=df\n",
        "  conc = conc.astype({'Longitude':'int'})\n",
        "  conc=conc.sort_values(by=['Longitude','pixel']).set_index(['Longitude', 'pixel'])\n",
        "  conc = conc.loc[(conc.index.get_level_values('pixel')>=200)]\n",
        "  conc=conc.reset_index()\n",
        "\n",
        "  concy1 = conc.groupby('Longitude').first()\n",
        "  concy1.rename(columns = {'pixel':'Sea_Ice_Conc','Latitude':'Sea_Ice_Lat','easting':'Sea_Ice_Est','northing':'Sea_Ice_Nth'}, inplace = True)\n",
        "\n",
        "  concy2 = conc.sort_values(by=['Longitude','Latitude'],ascending=[True, True])\n",
        "  concy2 = concy2[(concy2['pixel']==2540)]\n",
        "\n",
        "  concy3 = concy2.groupby('Longitude').last()\n",
        "\n",
        "  concy5 = pd.concat([concy1,concy3],axis=1)\n",
        "  long=concy5.index.get_level_values('Longitude')\n",
        "  concy5[\"Long\"]=long\n",
        "\n",
        "  return concy5"
      ],
      "metadata": {
        "id": "OxVzPGPFZ2My"
      },
      "execution_count": 30,
      "outputs": []
    },
    {
      "cell_type": "code",
      "source": [
        "#function to calculate distance\n",
        "def dist(cols):\n",
        "    long=cols[0]\n",
        "    sil=cols[1]\n",
        "    coast1=cols[2]\n",
        "        \n",
        "    slat = radians(sil)\n",
        "    slon = radians(long)\n",
        "    elat = radians(coast1)\n",
        "    elon = radians(long)\n",
        "\n",
        "    dist = 6371.01 * acos(sin(slat)*sin(elat) + cos(slat)*cos(elat)*cos(slon - elon))\n",
        "    return dist\n",
        "        "
      ],
      "metadata": {
        "id": "8DV2cZGScMWf"
      },
      "execution_count": 31,
      "outputs": []
    },
    {
      "cell_type": "code",
      "source": [
        "#function to calculate sea ice concentration in %\n",
        "def sic(cols):\n",
        "    sic=cols\n",
        "    if sic>2500:\n",
        "        sic=0\n",
        "\n",
        "    else:\n",
        "        sic=sic/10\n",
        "    return  sic"
      ],
      "metadata": {
        "id": "bceypIQKcMoA"
      },
      "execution_count": 32,
      "outputs": []
    },
    {
      "cell_type": "code",
      "source": [
        "#function to limit analysis only to Antarctic continent\n",
        "def sea_ice_edge(df):\n",
        "  concy5 = df\n",
        "  concy5['Distance']=concy5[['Long','Sea_Ice_Lat','Latitude']].apply(dist,axis=1)\n",
        "  concy5.drop(\"Long\",axis=1,inplace=True)\n",
        "\n",
        "  concy5[\"Sea_Ice_Conc(%)\"]= concy5[\"Sea_Ice_Conc\"].apply(sic)\n",
        "  concy5.rename(columns = {'Sea_Ice_Conc':'Sea_Ice_Pixel'}, inplace = True)\n",
        "  concy5.drop(concy5[concy5['Sea_Ice_Conc(%)'] == 0].index, inplace = True)\n",
        "  concy5 = concy5[concy5['Latitude']<=-55]\n",
        "\n",
        "  return concy5"
      ],
      "metadata": {
        "id": "2hzxjE1va32h"
      },
      "execution_count": 33,
      "outputs": []
    },
    {
      "cell_type": "code",
      "source": [
        "#function to write to excel\n",
        "def write(df,path_sheet,path_map,sn):\n",
        "  concy5 = df\n",
        "  concy5.to_excel(path_sheet, sheet_name = sn)\n",
        "  !rm -rf \"$path_map\""
      ],
      "metadata": {
        "id": "jOsZpqhwc_vK"
      },
      "execution_count": 34,
      "outputs": []
    },
    {
      "cell_type": "markdown",
      "source": [
        "Updating urls and file paths"
      ],
      "metadata": {
        "id": "XxdF4UI8tX8l"
      }
    },
    {
      "cell_type": "code",
      "source": [
        "#function to update the map url\n",
        "def update_map(link,j):\n",
        "  map = link\n",
        "  map= map[:89] + j + map[93:]\n",
        "  #print(map)\n",
        "  test = os.system('wget %s' %map)\n",
        "  return test\n"
      ],
      "metadata": {
        "id": "zd51lwV1dVWB"
      },
      "execution_count": 35,
      "outputs": []
    },
    {
      "cell_type": "code",
      "source": [
        "#function to update the file path of the map\n",
        "def update_path_map(path,j):\n",
        "  path= path[:11] + j + path[15:]\n",
        "  j = str(int(j)+1)\n",
        "  return path"
      ],
      "metadata": {
        "id": "-TZDaS2kk2y9"
      },
      "execution_count": 36,
      "outputs": []
    },
    {
      "cell_type": "code",
      "source": [
        "#function to update the file path of the excel sheet\n",
        "def update_path_sheet(path,j):\n",
        "  length = len(path)\n",
        "  length = length - 9\n",
        "  end = length + 4\n",
        "  path= path[:length] + j + path[end:]\n",
        "  j = str(int(j)+1)\n",
        "  return path\n"
      ],
      "metadata": {
        "id": "V7ACB_dEKcLw"
      },
      "execution_count": 37,
      "outputs": []
    },
    {
      "cell_type": "markdown",
      "source": [
        "Heart of the program"
      ],
      "metadata": {
        "id": "XX7vg1xYtqII"
      }
    },
    {
      "cell_type": "code",
      "source": [
        "#to acsses google drive\n",
        "from google.colab import drive\n",
        "drive.mount('/content/drive')"
      ],
      "metadata": {
        "colab": {
          "base_uri": "https://localhost:8080/"
        },
        "id": "OA6fyfZNK7x_",
        "outputId": "c622c473-3d05-4a2b-b03e-94fab46d3560"
      },
      "execution_count": 38,
      "outputs": [
        {
          "output_type": "stream",
          "name": "stdout",
          "text": [
            "Drive already mounted at /content/drive; to attempt to forcibly remount, call drive.mount(\"/content/drive\", force_remount=True).\n"
          ]
        }
      ]
    },
    {
      "cell_type": "code",
      "source": [
        "#set the url of first map, file path of first map and excel sheet of first map as constants to enable updating as program proceeds\n",
        "j='1979'\n",
        "link = 'https://masie_web.apps.nsidc.org/pub/DATASETS/NOAA/G02135/south/monthly/geotiff/01_Jan/S_199301_concentration_v3.0.tif'\n",
        "path_map = '/content/S_199301_concentration_v3.0.tif'\n",
        "path_sheet = '/content/drive/MyDrive/NCPOR/RESULTS/January/1993.xlsx'"
      ],
      "metadata": {
        "id": "7TbU9PmHK8YN"
      },
      "execution_count": 39,
      "outputs": []
    },
    {
      "cell_type": "code",
      "source": [
        "#for loop to run through 45 years for every month\n",
        "for i in range(45): \n",
        "  print(\"Processing year \",j)\n",
        "\n",
        "  flag = update_map(link,j)\n",
        "  path_map = update_path_map(path_map,j)\n",
        "  path_sheet = update_path_sheet(path_sheet,j)\n",
        "  j = str(int(j)+1)\n",
        "\n",
        "  if flag == 0:\n",
        "    conc = read_map(path_map)\n",
        "    conc = convert(conc)\n",
        "    concy5 = slice_n_dice(conc)\n",
        "    concy5 = sea_ice_edge(concy5)\n",
        "\n",
        "    sn = str(int(j) - 1)\n",
        "    write(concy5,path_sheet,path_map,sn)\n",
        "\n",
        "    print(\"Finished Processing year \",sn)\n",
        "    print(\" \")\n",
        "  else:\n",
        "    print(\"Map not found..moving to next year.\")\n",
        "\n",
        "  if j == 2022:\n",
        "    break\n",
        "\n",
        "print(\"DONE\")"
      ],
      "metadata": {
        "colab": {
          "base_uri": "https://localhost:8080/"
        },
        "id": "vxqgfneuKfX1",
        "outputId": "fafd14b1-c025-4872-d304-00d71bbd9f63"
      },
      "execution_count": 40,
      "outputs": [
        {
          "output_type": "stream",
          "name": "stdout",
          "text": [
            "Processing year  1993\n"
          ]
        },
        {
          "output_type": "stream",
          "name": "stderr",
          "text": [
            "/usr/local/lib/python3.7/dist-packages/ipykernel_launcher.py:14: DeprecationWarning: This function is deprecated. See: https://pyproj4.github.io/pyproj/stable/gotchas.html#upgrading-to-pyproj-2-from-pyproj-1\n",
            "  \n"
          ]
        },
        {
          "output_type": "stream",
          "name": "stdout",
          "text": [
            "Finished Processing year  1993\n",
            " \n",
            "Processing year  1994\n"
          ]
        },
        {
          "output_type": "stream",
          "name": "stderr",
          "text": [
            "/usr/local/lib/python3.7/dist-packages/ipykernel_launcher.py:14: DeprecationWarning: This function is deprecated. See: https://pyproj4.github.io/pyproj/stable/gotchas.html#upgrading-to-pyproj-2-from-pyproj-1\n",
            "  \n"
          ]
        },
        {
          "output_type": "stream",
          "name": "stdout",
          "text": [
            "Finished Processing year  1994\n",
            " \n",
            "Processing year  1995\n"
          ]
        },
        {
          "output_type": "stream",
          "name": "stderr",
          "text": [
            "/usr/local/lib/python3.7/dist-packages/ipykernel_launcher.py:14: DeprecationWarning: This function is deprecated. See: https://pyproj4.github.io/pyproj/stable/gotchas.html#upgrading-to-pyproj-2-from-pyproj-1\n",
            "  \n"
          ]
        },
        {
          "output_type": "stream",
          "name": "stdout",
          "text": [
            "Finished Processing year  1995\n",
            " \n",
            "Processing year  1996\n"
          ]
        },
        {
          "output_type": "stream",
          "name": "stderr",
          "text": [
            "/usr/local/lib/python3.7/dist-packages/ipykernel_launcher.py:14: DeprecationWarning: This function is deprecated. See: https://pyproj4.github.io/pyproj/stable/gotchas.html#upgrading-to-pyproj-2-from-pyproj-1\n",
            "  \n"
          ]
        },
        {
          "output_type": "stream",
          "name": "stdout",
          "text": [
            "Finished Processing year  1996\n",
            " \n",
            "Processing year  1997\n"
          ]
        },
        {
          "output_type": "stream",
          "name": "stderr",
          "text": [
            "/usr/local/lib/python3.7/dist-packages/ipykernel_launcher.py:14: DeprecationWarning: This function is deprecated. See: https://pyproj4.github.io/pyproj/stable/gotchas.html#upgrading-to-pyproj-2-from-pyproj-1\n",
            "  \n"
          ]
        },
        {
          "output_type": "stream",
          "name": "stdout",
          "text": [
            "Finished Processing year  1997\n",
            " \n",
            "Processing year  1998\n"
          ]
        },
        {
          "output_type": "stream",
          "name": "stderr",
          "text": [
            "/usr/local/lib/python3.7/dist-packages/ipykernel_launcher.py:14: DeprecationWarning: This function is deprecated. See: https://pyproj4.github.io/pyproj/stable/gotchas.html#upgrading-to-pyproj-2-from-pyproj-1\n",
            "  \n"
          ]
        },
        {
          "output_type": "stream",
          "name": "stdout",
          "text": [
            "Finished Processing year  1998\n",
            " \n",
            "Processing year  1999\n"
          ]
        },
        {
          "output_type": "stream",
          "name": "stderr",
          "text": [
            "/usr/local/lib/python3.7/dist-packages/ipykernel_launcher.py:14: DeprecationWarning: This function is deprecated. See: https://pyproj4.github.io/pyproj/stable/gotchas.html#upgrading-to-pyproj-2-from-pyproj-1\n",
            "  \n"
          ]
        },
        {
          "output_type": "stream",
          "name": "stdout",
          "text": [
            "Finished Processing year  1999\n",
            " \n",
            "Processing year  2000\n"
          ]
        },
        {
          "output_type": "stream",
          "name": "stderr",
          "text": [
            "/usr/local/lib/python3.7/dist-packages/ipykernel_launcher.py:14: DeprecationWarning: This function is deprecated. See: https://pyproj4.github.io/pyproj/stable/gotchas.html#upgrading-to-pyproj-2-from-pyproj-1\n",
            "  \n"
          ]
        },
        {
          "output_type": "stream",
          "name": "stdout",
          "text": [
            "Finished Processing year  2000\n",
            " \n",
            "Processing year  2001\n"
          ]
        },
        {
          "output_type": "stream",
          "name": "stderr",
          "text": [
            "/usr/local/lib/python3.7/dist-packages/ipykernel_launcher.py:14: DeprecationWarning: This function is deprecated. See: https://pyproj4.github.io/pyproj/stable/gotchas.html#upgrading-to-pyproj-2-from-pyproj-1\n",
            "  \n"
          ]
        },
        {
          "output_type": "stream",
          "name": "stdout",
          "text": [
            "Finished Processing year  2001\n",
            " \n",
            "Processing year  2002\n"
          ]
        },
        {
          "output_type": "stream",
          "name": "stderr",
          "text": [
            "/usr/local/lib/python3.7/dist-packages/ipykernel_launcher.py:14: DeprecationWarning: This function is deprecated. See: https://pyproj4.github.io/pyproj/stable/gotchas.html#upgrading-to-pyproj-2-from-pyproj-1\n",
            "  \n"
          ]
        },
        {
          "output_type": "stream",
          "name": "stdout",
          "text": [
            "Finished Processing year  2002\n",
            " \n",
            "Processing year  2003\n"
          ]
        },
        {
          "output_type": "stream",
          "name": "stderr",
          "text": [
            "/usr/local/lib/python3.7/dist-packages/ipykernel_launcher.py:14: DeprecationWarning: This function is deprecated. See: https://pyproj4.github.io/pyproj/stable/gotchas.html#upgrading-to-pyproj-2-from-pyproj-1\n",
            "  \n"
          ]
        },
        {
          "output_type": "stream",
          "name": "stdout",
          "text": [
            "Finished Processing year  2003\n",
            " \n",
            "Processing year  2004\n"
          ]
        },
        {
          "output_type": "stream",
          "name": "stderr",
          "text": [
            "/usr/local/lib/python3.7/dist-packages/ipykernel_launcher.py:14: DeprecationWarning: This function is deprecated. See: https://pyproj4.github.io/pyproj/stable/gotchas.html#upgrading-to-pyproj-2-from-pyproj-1\n",
            "  \n"
          ]
        },
        {
          "output_type": "stream",
          "name": "stdout",
          "text": [
            "Finished Processing year  2004\n",
            " \n",
            "Processing year  2005\n"
          ]
        },
        {
          "output_type": "stream",
          "name": "stderr",
          "text": [
            "/usr/local/lib/python3.7/dist-packages/ipykernel_launcher.py:14: DeprecationWarning: This function is deprecated. See: https://pyproj4.github.io/pyproj/stable/gotchas.html#upgrading-to-pyproj-2-from-pyproj-1\n",
            "  \n"
          ]
        },
        {
          "output_type": "stream",
          "name": "stdout",
          "text": [
            "Finished Processing year  2005\n",
            " \n",
            "Processing year  2006\n"
          ]
        },
        {
          "output_type": "stream",
          "name": "stderr",
          "text": [
            "/usr/local/lib/python3.7/dist-packages/ipykernel_launcher.py:14: DeprecationWarning: This function is deprecated. See: https://pyproj4.github.io/pyproj/stable/gotchas.html#upgrading-to-pyproj-2-from-pyproj-1\n",
            "  \n"
          ]
        },
        {
          "output_type": "stream",
          "name": "stdout",
          "text": [
            "Finished Processing year  2006\n",
            " \n",
            "Processing year  2007\n"
          ]
        },
        {
          "output_type": "stream",
          "name": "stderr",
          "text": [
            "/usr/local/lib/python3.7/dist-packages/ipykernel_launcher.py:14: DeprecationWarning: This function is deprecated. See: https://pyproj4.github.io/pyproj/stable/gotchas.html#upgrading-to-pyproj-2-from-pyproj-1\n",
            "  \n"
          ]
        },
        {
          "output_type": "stream",
          "name": "stdout",
          "text": [
            "Finished Processing year  2007\n",
            " \n",
            "Processing year  2008\n"
          ]
        },
        {
          "output_type": "stream",
          "name": "stderr",
          "text": [
            "/usr/local/lib/python3.7/dist-packages/ipykernel_launcher.py:14: DeprecationWarning: This function is deprecated. See: https://pyproj4.github.io/pyproj/stable/gotchas.html#upgrading-to-pyproj-2-from-pyproj-1\n",
            "  \n"
          ]
        },
        {
          "output_type": "stream",
          "name": "stdout",
          "text": [
            "Finished Processing year  2008\n",
            " \n",
            "Processing year  2009\n"
          ]
        },
        {
          "output_type": "stream",
          "name": "stderr",
          "text": [
            "/usr/local/lib/python3.7/dist-packages/ipykernel_launcher.py:14: DeprecationWarning: This function is deprecated. See: https://pyproj4.github.io/pyproj/stable/gotchas.html#upgrading-to-pyproj-2-from-pyproj-1\n",
            "  \n"
          ]
        },
        {
          "output_type": "stream",
          "name": "stdout",
          "text": [
            "Finished Processing year  2009\n",
            " \n",
            "Processing year  2010\n"
          ]
        },
        {
          "output_type": "stream",
          "name": "stderr",
          "text": [
            "/usr/local/lib/python3.7/dist-packages/ipykernel_launcher.py:14: DeprecationWarning: This function is deprecated. See: https://pyproj4.github.io/pyproj/stable/gotchas.html#upgrading-to-pyproj-2-from-pyproj-1\n",
            "  \n"
          ]
        },
        {
          "output_type": "stream",
          "name": "stdout",
          "text": [
            "Finished Processing year  2010\n",
            " \n",
            "Processing year  2011\n"
          ]
        },
        {
          "output_type": "stream",
          "name": "stderr",
          "text": [
            "/usr/local/lib/python3.7/dist-packages/ipykernel_launcher.py:14: DeprecationWarning: This function is deprecated. See: https://pyproj4.github.io/pyproj/stable/gotchas.html#upgrading-to-pyproj-2-from-pyproj-1\n",
            "  \n"
          ]
        },
        {
          "output_type": "stream",
          "name": "stdout",
          "text": [
            "Finished Processing year  2011\n",
            " \n",
            "Processing year  2012\n"
          ]
        },
        {
          "output_type": "stream",
          "name": "stderr",
          "text": [
            "/usr/local/lib/python3.7/dist-packages/ipykernel_launcher.py:14: DeprecationWarning: This function is deprecated. See: https://pyproj4.github.io/pyproj/stable/gotchas.html#upgrading-to-pyproj-2-from-pyproj-1\n",
            "  \n"
          ]
        },
        {
          "output_type": "stream",
          "name": "stdout",
          "text": [
            "Finished Processing year  2012\n",
            " \n",
            "Processing year  2013\n"
          ]
        },
        {
          "output_type": "stream",
          "name": "stderr",
          "text": [
            "/usr/local/lib/python3.7/dist-packages/ipykernel_launcher.py:14: DeprecationWarning: This function is deprecated. See: https://pyproj4.github.io/pyproj/stable/gotchas.html#upgrading-to-pyproj-2-from-pyproj-1\n",
            "  \n"
          ]
        },
        {
          "output_type": "stream",
          "name": "stdout",
          "text": [
            "Finished Processing year  2013\n",
            " \n",
            "Processing year  2014\n"
          ]
        },
        {
          "output_type": "stream",
          "name": "stderr",
          "text": [
            "/usr/local/lib/python3.7/dist-packages/ipykernel_launcher.py:14: DeprecationWarning: This function is deprecated. See: https://pyproj4.github.io/pyproj/stable/gotchas.html#upgrading-to-pyproj-2-from-pyproj-1\n",
            "  \n"
          ]
        },
        {
          "output_type": "stream",
          "name": "stdout",
          "text": [
            "Finished Processing year  2014\n",
            " \n",
            "Processing year  2015\n"
          ]
        },
        {
          "output_type": "stream",
          "name": "stderr",
          "text": [
            "/usr/local/lib/python3.7/dist-packages/ipykernel_launcher.py:14: DeprecationWarning: This function is deprecated. See: https://pyproj4.github.io/pyproj/stable/gotchas.html#upgrading-to-pyproj-2-from-pyproj-1\n",
            "  \n"
          ]
        },
        {
          "output_type": "stream",
          "name": "stdout",
          "text": [
            "Finished Processing year  2015\n",
            " \n",
            "Processing year  2016\n"
          ]
        },
        {
          "output_type": "stream",
          "name": "stderr",
          "text": [
            "/usr/local/lib/python3.7/dist-packages/ipykernel_launcher.py:14: DeprecationWarning: This function is deprecated. See: https://pyproj4.github.io/pyproj/stable/gotchas.html#upgrading-to-pyproj-2-from-pyproj-1\n",
            "  \n"
          ]
        },
        {
          "output_type": "stream",
          "name": "stdout",
          "text": [
            "Finished Processing year  2016\n",
            " \n",
            "Processing year  2017\n"
          ]
        },
        {
          "output_type": "stream",
          "name": "stderr",
          "text": [
            "/usr/local/lib/python3.7/dist-packages/ipykernel_launcher.py:14: DeprecationWarning: This function is deprecated. See: https://pyproj4.github.io/pyproj/stable/gotchas.html#upgrading-to-pyproj-2-from-pyproj-1\n",
            "  \n"
          ]
        },
        {
          "output_type": "stream",
          "name": "stdout",
          "text": [
            "Finished Processing year  2017\n",
            " \n",
            "Processing year  2018\n"
          ]
        },
        {
          "output_type": "stream",
          "name": "stderr",
          "text": [
            "/usr/local/lib/python3.7/dist-packages/ipykernel_launcher.py:14: DeprecationWarning: This function is deprecated. See: https://pyproj4.github.io/pyproj/stable/gotchas.html#upgrading-to-pyproj-2-from-pyproj-1\n",
            "  \n"
          ]
        },
        {
          "output_type": "stream",
          "name": "stdout",
          "text": [
            "Finished Processing year  2018\n",
            " \n",
            "Processing year  2019\n"
          ]
        },
        {
          "output_type": "stream",
          "name": "stderr",
          "text": [
            "/usr/local/lib/python3.7/dist-packages/ipykernel_launcher.py:14: DeprecationWarning: This function is deprecated. See: https://pyproj4.github.io/pyproj/stable/gotchas.html#upgrading-to-pyproj-2-from-pyproj-1\n",
            "  \n"
          ]
        },
        {
          "output_type": "stream",
          "name": "stdout",
          "text": [
            "Finished Processing year  2019\n",
            " \n",
            "Processing year  2020\n"
          ]
        },
        {
          "output_type": "stream",
          "name": "stderr",
          "text": [
            "/usr/local/lib/python3.7/dist-packages/ipykernel_launcher.py:14: DeprecationWarning: This function is deprecated. See: https://pyproj4.github.io/pyproj/stable/gotchas.html#upgrading-to-pyproj-2-from-pyproj-1\n",
            "  \n"
          ]
        },
        {
          "output_type": "stream",
          "name": "stdout",
          "text": [
            "Finished Processing year  2020\n",
            " \n",
            "Processing year  2021\n"
          ]
        },
        {
          "output_type": "stream",
          "name": "stderr",
          "text": [
            "/usr/local/lib/python3.7/dist-packages/ipykernel_launcher.py:14: DeprecationWarning: This function is deprecated. See: https://pyproj4.github.io/pyproj/stable/gotchas.html#upgrading-to-pyproj-2-from-pyproj-1\n",
            "  \n"
          ]
        },
        {
          "output_type": "stream",
          "name": "stdout",
          "text": [
            "Finished Processing year  2021\n",
            " \n",
            "Processing year  2022\n"
          ]
        },
        {
          "output_type": "stream",
          "name": "stderr",
          "text": [
            "/usr/local/lib/python3.7/dist-packages/ipykernel_launcher.py:14: DeprecationWarning: This function is deprecated. See: https://pyproj4.github.io/pyproj/stable/gotchas.html#upgrading-to-pyproj-2-from-pyproj-1\n",
            "  \n"
          ]
        },
        {
          "output_type": "stream",
          "name": "stdout",
          "text": [
            "Finished Processing year  2022\n",
            " \n",
            "Processing year  2023\n",
            "Map not found..moving to next year.\n",
            "Processing year  2024\n",
            "Map not found..moving to next year.\n",
            "Processing year  2025\n",
            "Map not found..moving to next year.\n",
            "Processing year  2026\n",
            "Map not found..moving to next year.\n",
            "Processing year  2027\n",
            "Map not found..moving to next year.\n",
            "Processing year  2028\n",
            "Map not found..moving to next year.\n",
            "Processing year  2029\n",
            "Map not found..moving to next year.\n",
            "Processing year  2030\n",
            "Map not found..moving to next year.\n",
            "Processing year  2031\n",
            "Map not found..moving to next year.\n",
            "Processing year  2032\n",
            "Map not found..moving to next year.\n",
            "Processing year  2033\n",
            "Map not found..moving to next year.\n",
            "Processing year  2034\n",
            "Map not found..moving to next year.\n",
            "Processing year  2035\n",
            "Map not found..moving to next year.\n",
            "Processing year  2036\n",
            "Map not found..moving to next year.\n",
            "Processing year  2037\n",
            "Map not found..moving to next year.\n"
          ]
        }
      ]
    },
    {
      "cell_type": "markdown",
      "source": [
        ""
      ],
      "metadata": {
        "id": "LG7rbCXqlvRx"
      }
    }
  ]
}